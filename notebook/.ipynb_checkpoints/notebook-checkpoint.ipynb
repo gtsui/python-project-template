{
 "cells": [
  {
   "cell_type": "code",
   "execution_count": 6,
   "id": "fbfe81f7-45d2-4d5f-8e46-f01ecc0b0625",
   "metadata": {},
   "outputs": [
    {
     "name": "stdout",
     "output_type": "stream",
     "text": [
      "   a  b  c\n",
      "0  1  2  x\n",
      "1  2  4  y\n",
      "2  3  6  z\n"
     ]
    }
   ],
   "source": [
    "import pandas as pd\n",
    "\n",
    "df = pd.DataFrame({'a': [1,2,3], 'b': [2,4,6], 'c': ['x', 'y', 'z']})\n",
    "print(df)"
   ]
  }
 ],
 "metadata": {
  "kernelspec": {
   "display_name": "Python 3 (ipykernel)",
   "language": "python",
   "name": "python3"
  },
  "language_info": {
   "codemirror_mode": {
    "name": "ipython",
    "version": 3
   },
   "file_extension": ".py",
   "mimetype": "text/x-python",
   "name": "python",
   "nbconvert_exporter": "python",
   "pygments_lexer": "ipython3",
   "version": "3.12.3"
  }
 },
 "nbformat": 4,
 "nbformat_minor": 5
}
